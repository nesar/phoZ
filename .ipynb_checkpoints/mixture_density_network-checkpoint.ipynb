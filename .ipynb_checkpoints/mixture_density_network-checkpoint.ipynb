{
 "cells": [
  {
   "cell_type": "markdown",
   "metadata": {},
   "source": [
    "# Mixture Density Networks\n",
    "\n",
    "Mixture density networks (MDN) (Bishop, 1994) are a class\n",
    "of models obtained by combining a conventional neural network with a\n",
    "mixture density model.\n",
    "\n",
    "We demonstrate with an example in Edward. A webpage version is available at\n",
    "http://edwardlib.org/tutorials/mixture-density-network."
   ]
  },
  {
   "cell_type": "code",
   "execution_count": 1,
   "metadata": {},
   "outputs": [
    {
     "ename": "ModuleNotFoundError",
     "evalue": "No module named 'edward'",
     "output_type": "error",
     "traceback": [
      "\u001b[0;31m---------------------------------------------------------------------------\u001b[0m",
      "\u001b[0;31mModuleNotFoundError\u001b[0m                       Traceback (most recent call last)",
      "\u001b[0;32m<ipython-input-1-3eedfce3aa3a>\u001b[0m in \u001b[0;36m<module>\u001b[0;34m\u001b[0m\n\u001b[1;32m      3\u001b[0m \u001b[0;32mfrom\u001b[0m \u001b[0m__future__\u001b[0m \u001b[0;32mimport\u001b[0m \u001b[0mprint_function\u001b[0m\u001b[0;34m\u001b[0m\u001b[0;34m\u001b[0m\u001b[0m\n\u001b[1;32m      4\u001b[0m \u001b[0;34m\u001b[0m\u001b[0m\n\u001b[0;32m----> 5\u001b[0;31m \u001b[0;32mimport\u001b[0m \u001b[0medward\u001b[0m \u001b[0;32mas\u001b[0m \u001b[0med\u001b[0m\u001b[0;34m\u001b[0m\u001b[0;34m\u001b[0m\u001b[0m\n\u001b[0m\u001b[1;32m      6\u001b[0m \u001b[0;32mimport\u001b[0m \u001b[0mmatplotlib\u001b[0m\u001b[0;34m.\u001b[0m\u001b[0mpyplot\u001b[0m \u001b[0;32mas\u001b[0m \u001b[0mplt\u001b[0m\u001b[0;34m\u001b[0m\u001b[0;34m\u001b[0m\u001b[0m\n\u001b[1;32m      7\u001b[0m \u001b[0;32mimport\u001b[0m \u001b[0mnumpy\u001b[0m \u001b[0;32mas\u001b[0m \u001b[0mnp\u001b[0m\u001b[0;34m\u001b[0m\u001b[0;34m\u001b[0m\u001b[0m\n",
      "\u001b[0;31mModuleNotFoundError\u001b[0m: No module named 'edward'"
     ]
    }
   ],
   "source": [
    "from __future__ import absolute_import\n",
    "from __future__ import division\n",
    "from __future__ import print_function\n",
    "\n",
    "import edward as ed\n",
    "import matplotlib.pyplot as plt\n",
    "import numpy as np\n",
    "import seaborn as sns\n",
    "import tensorflow as tf\n",
    "\n",
    "from edward.models import Categorical, Mixture, Normal\n",
    "from scipy import stats\n",
    "from sklearn.model_selection import train_test_split"
   ]
  },
  {
   "cell_type": "code",
   "execution_count": null,
   "metadata": {},
   "outputs": [],
   "source": [
    "def plot_normal_mix(pis, mus, sigmas, ax, label='', comp=True):\n",
    "  \"\"\"Plots the mixture of Normal models to axis=ax comp=True plots all\n",
    "  components of mixture model\n",
    "  \"\"\"\n",
    "  x = np.linspace(-10.5, 10.5, 250)\n",
    "  final = np.zeros_like(x)\n",
    "  for i, (weight_mix, mu_mix, sigma_mix) in enumerate(zip(pis, mus, sigmas)):\n",
    "    temp = stats.norm.pdf(x, mu_mix, sigma_mix) * weight_mix\n",
    "    final = final + temp\n",
    "    if comp:\n",
    "      ax.plot(x, temp, label='Normal ' + str(i))\n",
    "  ax.plot(x, final, label='Mixture of Normals ' + label)\n",
    "  ax.legend(fontsize=13)\n",
    "\n",
    "\n",
    "def sample_from_mixture(x, pred_weights, pred_means, pred_std, amount):\n",
    "  \"\"\"Draws samples from mixture model.\n",
    "\n",
    "  Returns 2 d array with input X and sample from prediction of mixture model.\n",
    "  \"\"\"\n",
    "  samples = np.zeros((amount, 2))\n",
    "  n_mix = len(pred_weights[0])\n",
    "  to_choose_from = np.arange(n_mix)\n",
    "  for j, (weights, means, std_devs) in enumerate(\n",
    "          zip(pred_weights, pred_means, pred_std)):\n",
    "    index = np.random.choice(to_choose_from, p=weights)\n",
    "    samples[j, 1] = np.random.normal(means[index], std_devs[index], size=1)\n",
    "    samples[j, 0] = x[j]\n",
    "    if j == amount - 1:\n",
    "      break\n",
    "  return samples"
   ]
  },
  {
   "cell_type": "markdown",
   "metadata": {},
   "source": [
    "## Data\n",
    "\n",
    "We use the same toy data from\n",
    "[David Ha's blog post](http://blog.otoro.net/2015/11/24/mixture-density-networks-with-tensorflow/), where he explains MDNs. It is an inverse problem where\n",
    "for every input $x_n$ there are multiple outputs $y_n$."
   ]
  },
  {
   "cell_type": "code",
   "execution_count": null,
   "metadata": {},
   "outputs": [],
   "source": [
    "def build_toy_dataset(N):\n",
    "  y_data = np.random.uniform(-10.5, 10.5, N)\n",
    "  r_data = np.random.normal(size=N)  # random noise\n",
    "  x_data = np.sin(0.75 * y_data) * 7.0 + y_data * 0.5 + r_data * 1.0\n",
    "  x_data = x_data.reshape((N, 1))\n",
    "  return train_test_split(x_data, y_data, random_state=42)\n",
    "\n",
    "\n",
    "# ed.set_seed(42)\n",
    "\n",
    "N = 1000  # number of data points\n",
    "D = 1  # number of features\n",
    "K = 20  # number of mixture components\n",
    "\n",
    "X_train, X_test, y_train, y_test = build_toy_dataset(N)\n",
    "print(\"Size of features in training data: {}\".format(X_train.shape))\n",
    "print(\"Size of output in training data: {}\".format(y_train.shape))\n",
    "print(\"Size of features in test data: {}\".format(X_test.shape))\n",
    "print(\"Size of output in test data: {}\".format(y_test.shape))\n",
    "sns.regplot(X_train, y_train, fit_reg=False)\n",
    "plt.show()"
   ]
  },
  {
   "cell_type": "markdown",
   "metadata": {},
   "source": [
    "We define TensorFlow placeholders, which will be used to manually feed batches of data during inference. This is [one of many ways](http://edwardlib.org/api/data) to train models with data in Edward."
   ]
  },
  {
   "cell_type": "code",
   "execution_count": null,
   "metadata": {},
   "outputs": [],
   "source": [
    "X_ph = tf.placeholder(tf.float32, [None, D])\n",
    "y_ph = tf.placeholder(tf.float32, [None])"
   ]
  },
  {
   "cell_type": "markdown",
   "metadata": {},
   "source": [
    "## Model\n",
    "\n",
    "We use a mixture of 20 normal distributions parameterized by a\n",
    "feedforward network. That is, the membership probabilities and\n",
    "per-component mean and standard deviation are given by the output of a\n",
    "feedforward network.\n",
    "\n",
    "We use `tf.layers` to construct neural networks. We specify\n",
    "a three-layer network with 15 hidden units for each hidden layer."
   ]
  },
  {
   "cell_type": "code",
   "execution_count": null,
   "metadata": {},
   "outputs": [],
   "source": [
    "def neural_network(X):\n",
    "  \"\"\"loc, scale, logits = NN(x; theta)\"\"\"\n",
    "  # 2 hidden layers with 15 hidden units\n",
    "  net = tf.layers.dense(X, 15, activation=tf.nn.relu)\n",
    "  net = tf.layers.dense(net, 15, activation=tf.nn.relu)\n",
    "  locs = tf.layers.dense(net, K, activation=None)\n",
    "  scales = tf.layers.dense(net, K, activation=tf.exp)\n",
    "  logits = tf.layers.dense(net, K, activation=None)\n",
    "  return locs, scales, logits\n",
    "\n",
    "\n",
    "locs, scales, logits = neural_network(X_ph)\n",
    "cat = Categorical(logits=logits)\n",
    "components = [Normal(loc=loc, scale=scale) for loc, scale\n",
    "              in zip(tf.unstack(tf.transpose(locs)),\n",
    "                     tf.unstack(tf.transpose(scales)))]\n",
    "y = Mixture(cat=cat, components=components, value=tf.zeros_like(y_ph))\n",
    "# Note: A bug exists in Mixture which prevents samples from it to have\n",
    "# a shape of [None]. For now fix it using the value argument, as\n",
    "# sampling is not necessary for MAP estimation anyways."
   ]
  },
  {
   "cell_type": "markdown",
   "metadata": {},
   "source": [
    "Note that we use the `Mixture` random variable. It collapses\n",
    "out the membership assignments for each data point and makes the model\n",
    "differentiable with respect to all its parameters. It takes a\n",
    "`Categorical` random variable as input—denoting the probability for each\n",
    "cluster assignment—as well as `components`, which is a list of\n",
    "individual distributions to mix over.\n",
    "\n",
    "For more background on MDNs, take a look at\n",
    "[Christopher Bonnett's blog post](http://cbonnett.github.io/MDN.html) or at Bishop (1994)."
   ]
  },
  {
   "cell_type": "markdown",
   "metadata": {},
   "source": [
    "## Inference\n",
    "\n",
    "We use MAP estimation, passing in the model and data set.\n",
    "See this extended tutorial about\n",
    "[MAP estimation in Edward](http://edwardlib.org/tutorials/map)"
   ]
  },
  {
   "cell_type": "code",
   "execution_count": null,
   "metadata": {},
   "outputs": [],
   "source": [
    "# There are no latent variables to infer. Thus inference is concerned\n",
    "# with only training model parameters, which are baked into how we\n",
    "# specify the neural networks.\n",
    "inference = ed.MAP(data={y: y_ph})\n",
    "optimizer = tf.train.AdamOptimizer(5e-3)\n",
    "inference.initialize(optimizer=optimizer, var_list=tf.trainable_variables())"
   ]
  },
  {
   "cell_type": "markdown",
   "metadata": {},
   "source": [
    "Here, we will manually control the inference and how data is passed\n",
    "into it at each step.\n",
    "Initialize the algorithm and the TensorFlow variables."
   ]
  },
  {
   "cell_type": "code",
   "execution_count": null,
   "metadata": {},
   "outputs": [],
   "source": [
    "sess = ed.get_session()\n",
    "tf.global_variables_initializer().run()"
   ]
  },
  {
   "cell_type": "markdown",
   "metadata": {},
   "source": [
    "Now we train the MDN by calling `inference.update()`, passing\n",
    "in the data. The quantity `inference.loss` is the\n",
    "loss function (negative log-likelihood) at that step of inference. We\n",
    "also report the loss function on test data by calling\n",
    "`inference.loss` and where we feed test data to the TensorFlow\n",
    "placeholders instead of training data.\n",
    "We keep track of the losses under `train_loss` and `test_loss`."
   ]
  },
  {
   "cell_type": "code",
   "execution_count": null,
   "metadata": {},
   "outputs": [],
   "source": [
    "n_epoch = 2 #1000\n",
    "train_loss = np.zeros(n_epoch)\n",
    "test_loss = np.zeros(n_epoch)\n",
    "for i in range(n_epoch):\n",
    "  info_dict = inference.update(feed_dict={X_ph: X_train, y_ph: y_train})\n",
    "  train_loss[i] = info_dict['loss']\n",
    "  test_loss[i] = sess.run(inference.loss,\n",
    "                          feed_dict={X_ph: X_test, y_ph: y_test})\n",
    "  inference.print_progress(info_dict)"
   ]
  },
  {
   "cell_type": "markdown",
   "metadata": {},
   "source": [
    "Note a common failure mode when training MDNs is that an individual\n",
    "mixture distribution collapses to a point. This forces the standard\n",
    "deviation of the normal to be close to 0 and produces NaN values.\n",
    "We can prevent this by thresholding the standard deviation if desired.\n",
    "\n",
    "After training for a number of iterations, we get out the predictions\n",
    "we are interested in from the model: the predicted mixture weights,\n",
    "cluster means, and cluster standard deviations.\n",
    "\n",
    "To do this, we fetch their values from session, feeding test data\n",
    "`X_test` to the placeholder `X_ph`."
   ]
  },
  {
   "cell_type": "code",
   "execution_count": null,
   "metadata": {},
   "outputs": [],
   "source": [
    "pred_weights, pred_means, pred_std = sess.run(\n",
    "    [tf.nn.softmax(logits), locs, scales], feed_dict={X_ph: X_test})"
   ]
  },
  {
   "cell_type": "markdown",
   "metadata": {},
   "source": [
    "Let's plot the log-likelihood of the training and test data as\n",
    "functions of the training epoch. The quantity `inference.loss`\n",
    "is the total log-likelihood, not the loss per data point. Below we\n",
    "plot the per-data point log-likelihood by dividing by the size of the\n",
    "train and test data respectively."
   ]
  },
  {
   "cell_type": "code",
   "execution_count": null,
   "metadata": {},
   "outputs": [],
   "source": [
    "fig, axes = plt.subplots(nrows=1, ncols=1, figsize=(16, 3.5))\n",
    "plt.plot(np.arange(n_epoch), -test_loss / len(X_test), label='Test')\n",
    "plt.plot(np.arange(n_epoch), -train_loss / len(X_train), label='Train')\n",
    "plt.legend(fontsize=20)\n",
    "plt.xlabel('Epoch', fontsize=15)\n",
    "plt.ylabel('Log-likelihood', fontsize=15)\n",
    "plt.show()"
   ]
  },
  {
   "cell_type": "markdown",
   "metadata": {},
   "source": [
    "We see that it converges after roughly 400 iterations."
   ]
  },
  {
   "cell_type": "markdown",
   "metadata": {},
   "source": [
    "## Criticism\n",
    "\n",
    "Let's look at how individual examples perform. Note that as this is an\n",
    "inverse problem we can't get the answer correct, but we can hope that\n",
    "the truth lies in area where the model has high probability.\n",
    "\n",
    "In this plot the truth is the vertical grey line while the blue line\n",
    "is the prediction of the mixture density network. As you can see, we\n",
    "didn't do too bad."
   ]
  },
  {
   "cell_type": "code",
   "execution_count": null,
   "metadata": {},
   "outputs": [],
   "source": [
    "obj = [0, 4, 6]\n",
    "fig, axes = plt.subplots(nrows=3, ncols=1, figsize=(16, 6))\n",
    "\n",
    "plot_normal_mix(pred_weights[obj][0], pred_means[obj][0],\n",
    "                pred_std[obj][0], axes[0], comp=False)\n",
    "axes[0].axvline(x=y_test[obj][0], color='black', alpha=0.5)\n",
    "\n",
    "plot_normal_mix(pred_weights[obj][2], pred_means[obj][2],\n",
    "                pred_std[obj][2], axes[1], comp=False)\n",
    "axes[1].axvline(x=y_test[obj][2], color='black', alpha=0.5)\n",
    "\n",
    "plot_normal_mix(pred_weights[obj][1], pred_means[obj][1],\n",
    "                pred_std[obj][1], axes[2], comp=False)\n",
    "axes[2].axvline(x=y_test[obj][1], color='black', alpha=0.5)\n",
    "plt.show()"
   ]
  },
  {
   "cell_type": "markdown",
   "metadata": {},
   "source": [
    "We can check the ensemble by drawing samples of the prediction and\n",
    "plotting the density of those. The MDN has learned what we'd like it\n",
    "to learn."
   ]
  },
  {
   "cell_type": "code",
   "execution_count": null,
   "metadata": {},
   "outputs": [],
   "source": [
    "a = sample_from_mixture(X_test, pred_weights, pred_means,\n",
    "                        pred_std, amount=len(X_test))\n",
    "sns.jointplot(a[:, 0], a[:, 1], kind=\"hex\", color=\"#4CB391\",\n",
    "              ylim=(-10, 10), xlim=(-14, 14))\n",
    "plt.show()"
   ]
  },
  {
   "cell_type": "markdown",
   "metadata": {},
   "source": [
    "## Acknowledgments\n",
    "\n",
    "We thank Christopher Bonnett for writing the initial version\n",
    "of this tutorial. More generally, we thank Chris for pushing forward\n",
    "momentum to have Edward tutorials be accessible and easy-to-learn."
   ]
  }
 ],
 "metadata": {
  "kernelspec": {
   "display_name": "Python [conda env:tf_tfp]",
   "language": "python",
   "name": "conda-env-tf_tfp-py"
  },
  "language_info": {
   "codemirror_mode": {
    "name": "ipython",
    "version": 3
   },
   "file_extension": ".py",
   "mimetype": "text/x-python",
   "name": "python",
   "nbconvert_exporter": "python",
   "pygments_lexer": "ipython3",
   "version": "3.6.8"
  }
 },
 "nbformat": 4,
 "nbformat_minor": 1
}
